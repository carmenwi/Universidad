{
 "cells": [
  {
   "cell_type": "markdown",
   "metadata": {},
   "source": [
    "<h1> Actividad 2: Datos ausentes y normalización </h1>\n",
    "<h3> Carmen Witsman García </h3>\n",
    "\n",
    "Trabajaremos con un conjunto de datos que contiene NAs, imputaremos los datos faltantes por eliminación y normalizaremos utilizando la técnica z-score. Finalmente, comentaremos cuáles son las ventajas y desventajas de usar z-score para la normalización de datos numéricos en Python."
   ]
  },
  {
   "cell_type": "code",
   "execution_count": 30,
   "metadata": {},
   "outputs": [],
   "source": [
    "# Importamos las librerías \n",
    "import os\n",
    "import pandas as pd\n",
    "import numpy as np\n",
    "\n",
    "# Establecemos directorio de trabajo\n",
    "os.chdir(\"C:/Users/witsm/Desktop/Tratamiento D/Actividades/Actividad 2\")"
   ]
  },
  {
   "cell_type": "code",
   "execution_count": 31,
   "metadata": {},
   "outputs": [
    {
     "name": "stdout",
     "output_type": "stream",
     "text": [
      "       record_id  month  day  year  plot_id species_id  sex  hindfoot_length  \\\n",
      "0              1      7   16  1977        2         NL    M             32.0   \n",
      "1              2      7   16  1977        3         NL    M             33.0   \n",
      "2              3      7   16  1977        2         DM    F             37.0   \n",
      "3              4      7   16  1977        7         DM    M             36.0   \n",
      "4              5      7   16  1977        3         DM    M             35.0   \n",
      "...          ...    ...  ...   ...      ...        ...  ...              ...   \n",
      "35544      35545     12   31  2002       15         AH  NaN              NaN   \n",
      "35545      35546     12   31  2002       15         AH  NaN              NaN   \n",
      "35546      35547     12   31  2002       10         RM    F             15.0   \n",
      "35547      35548     12   31  2002        7         DO    M             36.0   \n",
      "35548      35549     12   31  2002        5        NaN  NaN              NaN   \n",
      "\n",
      "       weight  \n",
      "0         NaN  \n",
      "1         NaN  \n",
      "2         NaN  \n",
      "3         NaN  \n",
      "4         NaN  \n",
      "...       ...  \n",
      "35544     NaN  \n",
      "35545     NaN  \n",
      "35546    14.0  \n",
      "35547    51.0  \n",
      "35548     NaN  \n",
      "\n",
      "[35549 rows x 9 columns]\n"
     ]
    }
   ],
   "source": [
    "# Importamos los datos\n",
    "datos = pd.read_csv(\"surveys.csv\")\n",
    "datos.head()\n",
    "print(datos)"
   ]
  },
  {
   "cell_type": "markdown",
   "metadata": {},
   "source": [
    "<h2> 1. Mecanismo de imputación </h2>\n",
    "\n",
    "Utilizaremos el mecanismo de imputación de valores faltantes por eliminación, analizaremos los valores faltantes de las filas y de las columnas y eligiremos la política a seguir para eliminar valores.\n",
    "\n",
    "Comentaremos los resultados y sugeriremos otras posibilidades para imputar los valores faltantes."
   ]
  },
  {
   "cell_type": "code",
   "execution_count": 32,
   "metadata": {},
   "outputs": [
    {
     "name": "stdout",
     "output_type": "stream",
     "text": [
      "record_id             0\n",
      "month                 0\n",
      "day                   0\n",
      "year                  0\n",
      "plot_id               0\n",
      "species_id          763\n",
      "sex                2511\n",
      "hindfoot_length    4111\n",
      "weight             3266\n",
      "dtype: int64\n",
      "\n",
      " record_id           0.000000\n",
      "month               0.000000\n",
      "day                 0.000000\n",
      "year                0.000000\n",
      "plot_id             0.000000\n",
      "species_id          2.146333\n",
      "sex                 7.063490\n",
      "hindfoot_length    11.564320\n",
      "weight              9.187319\n",
      "dtype: float64\n"
     ]
    }
   ],
   "source": [
    "# Primero, vemos si hay valores faltantes en el dataset (NaN)\n",
    "valores_na = datos.isnull().sum()\n",
    "print(valores_na)\n",
    "\n",
    "ratio_na = (valores_na / len(datos)) * 100\n",
    "print(f\"\\n\", ratio_na)"
   ]
  },
  {
   "cell_type": "markdown",
   "metadata": {},
   "source": [
    "Como vemos, tenemos valores faltantes en las columnas: \n",
    "\n",
    "`species_id` (763), `sex` (2511), `hindfoot_length` (4111) y `weight` (3266)\n",
    "\n",
    "Eliminaremos todas las filas que contengan valores faltantes, ya que los valores faltantes no llegan a presentar un alto porcentaje de los valores totales como para deshacernos de columnas enteras."
   ]
  },
  {
   "cell_type": "code",
   "execution_count": 33,
   "metadata": {},
   "outputs": [
    {
     "name": "stdout",
     "output_type": "stream",
     "text": [
      "       record_id  month  day  year  plot_id species_id  sex  hindfoot_length  \\\n",
      "0              1      7   16  1977        2         NL    M             32.0   \n",
      "1              2      7   16  1977        3         NL    M             33.0   \n",
      "2              3      7   16  1977        2         DM    F             37.0   \n",
      "3              4      7   16  1977        7         DM    M             36.0   \n",
      "4              5      7   16  1977        3         DM    M             35.0   \n",
      "...          ...    ...  ...   ...      ...        ...  ...              ...   \n",
      "35544      35545     12   31  2002       15         AH  NaN              NaN   \n",
      "35545      35546     12   31  2002       15         AH  NaN              NaN   \n",
      "35546      35547     12   31  2002       10         RM    F             15.0   \n",
      "35547      35548     12   31  2002        7         DO    M             36.0   \n",
      "35548      35549     12   31  2002        5        NaN  NaN              NaN   \n",
      "\n",
      "       weight  \n",
      "0         NaN  \n",
      "1         NaN  \n",
      "2         NaN  \n",
      "3         NaN  \n",
      "4         NaN  \n",
      "...       ...  \n",
      "35544     NaN  \n",
      "35545     NaN  \n",
      "35546    14.0  \n",
      "35547    51.0  \n",
      "35548     NaN  \n",
      "\n",
      "[35549 rows x 9 columns]\n"
     ]
    }
   ],
   "source": [
    "# Conjunto de datos sin NAs\n",
    "datos_limpios = datos.dropna()\n",
    "print(datos)"
   ]
  },
  {
   "cell_type": "code",
   "execution_count": 34,
   "metadata": {},
   "outputs": [
    {
     "name": "stdout",
     "output_type": "stream",
     "text": [
      "¿Hay valores nulos en la variable dependiente 'hindfoot_leght'?\n",
      "False\n",
      "\n",
      "Número de observaciones en el conjunto de datos X (variables explicativas): 30676\n",
      "Número de observaciones en el conjunto de datos y (variable dependiente): 30676\n"
     ]
    }
   ],
   "source": [
    "# Análisis \n",
    "# ---------------------------------------\n",
    "\n",
    "# Definimos la variable respuesta (y) y las variables explicativas (X)\n",
    "variables_explicativas = [\"weight\", \"month\", \"day\", \"year\", \"plot_id\"]\n",
    "y = datos_limpios['hindfoot_length']\n",
    "X = datos_limpios[variables_explicativas]\n",
    "\n",
    "# Verificamos si hay valores nulos en la variable dependiente 'hindfoot_leght' en el DataFrame limpio\n",
    "print(\"¿Hay valores nulos en la variable dependiente 'hindfoot_leght'?\")\n",
    "print(datos_limpios['hindfoot_length'].isnull().any())\n",
    "\n",
    "# Mostrar el número de observaciones en los conjuntos de datos X e y\n",
    "print(\"\\nNúmero de observaciones en el conjunto de datos X (variables explicativas):\", X.shape[0])\n",
    "print(\"Número de observaciones en el conjunto de datos y (variable dependiente):\", y.shape[0])"
   ]
  },
  {
   "cell_type": "markdown",
   "metadata": {},
   "source": [
    "Vemos que tras la eliminación de valores faltantes, definiendo una variable respuesta y explicativas, hemos limpiado por completo el dataset de valores nulos.\n",
    "\n",
    "Al principio, teníamos un dataset con 35549 filas, y tras aplicar la imputación por eliminación, nos hemos quedado con un dataset de 30676 filas. Eso quiere decir que implementando este mecanismo de imputación, nos hemos deshecho de 4873 filas (un 13,7% del dataset inicial).\n",
    "\n",
    "Por lo tanto, como método de imputación podemos decir que no es el mejor, pero tratándose de un dataset tan grande, la pérdida no es tan significativa. Así que, ¿qué otras alternativas hay?\n",
    "\n",
    "Tomando variables numéricas, podríamos imputar por la mediana si afectase una cantidad considerable de valores atípicos, imputar por la media, o mediante método MICE o árbol de regresión. El más efectivo es el método k-means. Luego, eliminaríamos las filas afectadas por los NAs de `species_id` y `sex`, ya que son variables categóricas."
   ]
  },
  {
   "cell_type": "code",
   "execution_count": 35,
   "metadata": {},
   "outputs": [
    {
     "name": "stdout",
     "output_type": "stream",
     "text": [
      "Coeficiente de determinación (R^2): 0.48439741394218383\n"
     ]
    }
   ],
   "source": [
    "# Alternativa de imputación: k-means\n",
    "variables_explicativas = [\"weight\", \"month\", \"day\", \"year\", \"plot_id\"]\n",
    "y = datos_limpios['hindfoot_length']\n",
    "X = datos_limpios[variables_explicativas]\n",
    "\n",
    "from sklearn.impute import KNNImputer\n",
    "from sklearn.linear_model import LinearRegression\n",
    "from sklearn.metrics import r2_score\n",
    "\n",
    "imputer = KNNImputer()\n",
    "X_imputed = imputer.fit_transform(X)\n",
    "\n",
    "# Ajustar el modelo de regresion mediante arboles de decisiones\n",
    "model = LinearRegression()\n",
    "model.fit(X_imputed, y)\n",
    "\n",
    "# Predecir los valores de y utilizando el modelo ajustado\n",
    "y_pred = model.predict(X_imputed)\n",
    "\n",
    "# Calcular el coeficiente de determinación (R^2)\n",
    "score_knn = r2_score(y, y_pred)\n",
    "print(\"Coeficiente de determinación (R^2):\", score_knn)"
   ]
  },
  {
   "cell_type": "markdown",
   "metadata": {},
   "source": [
    "Vemos que el coeficiente de determinación es significativamente bueno, lo que sería una buena alternativa imputar valores numéricos faltantes por el método k-means."
   ]
  },
  {
   "cell_type": "markdown",
   "metadata": {},
   "source": [
    "<h2> 2. Normalización </h2>\n",
    "Aplicaremos la técnica de normalización de Z-Score a los datos numéricos. Unificaremos los datos numéricos normalizados y los datos categóricos en un solo dataframe. Comentaremos las ventajas o desventajas de la técnica de Z-Score."
   ]
  },
  {
   "cell_type": "code",
   "execution_count": 36,
   "metadata": {},
   "outputs": [
    {
     "data": {
      "text/html": [
       "<div>\n",
       "<style scoped>\n",
       "    .dataframe tbody tr th:only-of-type {\n",
       "        vertical-align: middle;\n",
       "    }\n",
       "\n",
       "    .dataframe tbody tr th {\n",
       "        vertical-align: top;\n",
       "    }\n",
       "\n",
       "    .dataframe thead th {\n",
       "        text-align: right;\n",
       "    }\n",
       "</style>\n",
       "<table border=\"1\" class=\"dataframe\">\n",
       "  <thead>\n",
       "    <tr style=\"text-align: right;\">\n",
       "      <th></th>\n",
       "      <th>weight</th>\n",
       "      <th>month</th>\n",
       "      <th>day</th>\n",
       "      <th>year</th>\n",
       "      <th>plot_id</th>\n",
       "      <th>hindfoot_length</th>\n",
       "    </tr>\n",
       "  </thead>\n",
       "  <tbody>\n",
       "    <tr>\n",
       "      <th>62</th>\n",
       "      <td>-0.050217</td>\n",
       "      <td>0.420330</td>\n",
       "      <td>0.361578</td>\n",
       "      <td>-1.89880</td>\n",
       "      <td>-1.20984</td>\n",
       "      <td>0.606488</td>\n",
       "    </tr>\n",
       "    <tr>\n",
       "      <th>63</th>\n",
       "      <td>0.174045</td>\n",
       "      <td>0.420330</td>\n",
       "      <td>0.361578</td>\n",
       "      <td>-1.89880</td>\n",
       "      <td>-0.62140</td>\n",
       "      <td>0.816106</td>\n",
       "    </tr>\n",
       "    <tr>\n",
       "      <th>64</th>\n",
       "      <td>-0.358577</td>\n",
       "      <td>0.420330</td>\n",
       "      <td>0.361578</td>\n",
       "      <td>-1.89880</td>\n",
       "      <td>-1.06273</td>\n",
       "      <td>0.501679</td>\n",
       "    </tr>\n",
       "    <tr>\n",
       "      <th>65</th>\n",
       "      <td>0.117979</td>\n",
       "      <td>0.420330</td>\n",
       "      <td>0.361578</td>\n",
       "      <td>-1.89880</td>\n",
       "      <td>-1.06273</td>\n",
       "      <td>0.606488</td>\n",
       "    </tr>\n",
       "    <tr>\n",
       "      <th>66</th>\n",
       "      <td>-0.162348</td>\n",
       "      <td>0.420330</td>\n",
       "      <td>0.361578</td>\n",
       "      <td>-1.89880</td>\n",
       "      <td>-0.62140</td>\n",
       "      <td>0.606488</td>\n",
       "    </tr>\n",
       "    <tr>\n",
       "      <th>...</th>\n",
       "      <td>...</td>\n",
       "      <td>...</td>\n",
       "      <td>...</td>\n",
       "      <td>...</td>\n",
       "      <td>...</td>\n",
       "      <td>...</td>\n",
       "    </tr>\n",
       "    <tr>\n",
       "      <th>35540</th>\n",
       "      <td>-0.302511</td>\n",
       "      <td>1.581849</td>\n",
       "      <td>1.832650</td>\n",
       "      <td>1.49669</td>\n",
       "      <td>0.55548</td>\n",
       "      <td>-0.546410</td>\n",
       "    </tr>\n",
       "    <tr>\n",
       "      <th>35541</th>\n",
       "      <td>-0.358577</td>\n",
       "      <td>1.581849</td>\n",
       "      <td>1.832650</td>\n",
       "      <td>1.49669</td>\n",
       "      <td>0.55548</td>\n",
       "      <td>-0.336792</td>\n",
       "    </tr>\n",
       "    <tr>\n",
       "      <th>35542</th>\n",
       "      <td>-0.218413</td>\n",
       "      <td>1.581849</td>\n",
       "      <td>1.832650</td>\n",
       "      <td>1.49669</td>\n",
       "      <td>0.55548</td>\n",
       "      <td>-0.231983</td>\n",
       "    </tr>\n",
       "    <tr>\n",
       "      <th>35546</th>\n",
       "      <td>-0.779067</td>\n",
       "      <td>1.581849</td>\n",
       "      <td>1.832650</td>\n",
       "      <td>1.49669</td>\n",
       "      <td>-0.18007</td>\n",
       "      <td>-1.489690</td>\n",
       "    </tr>\n",
       "    <tr>\n",
       "      <th>35547</th>\n",
       "      <td>0.258143</td>\n",
       "      <td>1.581849</td>\n",
       "      <td>1.832650</td>\n",
       "      <td>1.49669</td>\n",
       "      <td>-0.62140</td>\n",
       "      <td>0.711297</td>\n",
       "    </tr>\n",
       "  </tbody>\n",
       "</table>\n",
       "<p>30676 rows × 6 columns</p>\n",
       "</div>"
      ],
      "text/plain": [
       "         weight     month       day     year  plot_id  hindfoot_length\n",
       "62    -0.050217  0.420330  0.361578 -1.89880 -1.20984         0.606488\n",
       "63     0.174045  0.420330  0.361578 -1.89880 -0.62140         0.816106\n",
       "64    -0.358577  0.420330  0.361578 -1.89880 -1.06273         0.501679\n",
       "65     0.117979  0.420330  0.361578 -1.89880 -1.06273         0.606488\n",
       "66    -0.162348  0.420330  0.361578 -1.89880 -0.62140         0.606488\n",
       "...         ...       ...       ...      ...      ...              ...\n",
       "35540 -0.302511  1.581849  1.832650  1.49669  0.55548        -0.546410\n",
       "35541 -0.358577  1.581849  1.832650  1.49669  0.55548        -0.336792\n",
       "35542 -0.218413  1.581849  1.832650  1.49669  0.55548        -0.231983\n",
       "35546 -0.779067  1.581849  1.832650  1.49669 -0.18007        -1.489690\n",
       "35547  0.258143  1.581849  1.832650  1.49669 -0.62140         0.711297\n",
       "\n",
       "[30676 rows x 6 columns]"
      ]
     },
     "execution_count": 36,
     "metadata": {},
     "output_type": "execute_result"
    }
   ],
   "source": [
    "\n",
    "# Normalizamos los datos numéricos con la técnica Z-Score\n",
    "\n",
    "columnas_numericas = [\"weight\", \"month\", \"day\", \"year\", \"plot_id\", \"hindfoot_length\"]\n",
    "datos_numericos = datos_limpios[columnas_numericas]\n",
    "\n",
    "import scipy.stats as ss\n",
    "\n",
    "datos_z = ss.zscore(datos_numericos)\n",
    "datos_z\n"
   ]
  },
  {
   "cell_type": "code",
   "execution_count": 37,
   "metadata": {},
   "outputs": [
    {
     "name": "stdout",
     "output_type": "stream",
     "text": [
      "       record_id     month       day     year  plot_id species_id sex  \\\n",
      "62            63  0.420330  0.361578 -1.89880 -1.20984         DM   M   \n",
      "63            64  0.420330  0.361578 -1.89880 -0.62140         DM   M   \n",
      "64            65  0.420330  0.361578 -1.89880 -1.06273         DM   F   \n",
      "65            66  0.420330  0.361578 -1.89880 -1.06273         DM   F   \n",
      "66            67  0.420330  0.361578 -1.89880 -0.62140         DM   M   \n",
      "...          ...       ...       ...      ...      ...        ...  ..   \n",
      "35540      35541  1.581849  1.832650  1.49669  0.55548         PB   F   \n",
      "35541      35542  1.581849  1.832650  1.49669  0.55548         PB   F   \n",
      "35542      35543  1.581849  1.832650  1.49669  0.55548         PB   F   \n",
      "35546      35547  1.581849  1.832650  1.49669 -0.18007         RM   F   \n",
      "35547      35548  1.581849  1.832650  1.49669 -0.62140         DO   M   \n",
      "\n",
      "       hindfoot_length    weight  \n",
      "62            0.606488 -0.050217  \n",
      "63            0.816106  0.174045  \n",
      "64            0.501679 -0.358577  \n",
      "65            0.606488  0.117979  \n",
      "66            0.606488 -0.162348  \n",
      "...                ...       ...  \n",
      "35540        -0.546410 -0.302511  \n",
      "35541        -0.336792 -0.358577  \n",
      "35542        -0.231983 -0.218413  \n",
      "35546        -1.489690 -0.779067  \n",
      "35547         0.711297  0.258143  \n",
      "\n",
      "[30676 rows x 9 columns]\n"
     ]
    }
   ],
   "source": [
    "import warnings\n",
    "\n",
    "# Ignore all warnings\n",
    "warnings.filterwarnings('ignore')\n",
    "\n",
    "# Your code here\n",
    "\n",
    "# Reemplazamos los datos numéricos por los datos normalizados\n",
    "\n",
    "datos_limpios[columnas_numericas] = datos_z\n",
    "print(datos_limpios)\n"
   ]
  },
  {
   "cell_type": "markdown",
   "metadata": {},
   "source": [
    "------------------------\n",
    "Ventajas y desventajas de usar la técnica Z-score para normalizar datos en Python\n",
    "===================================================================================\n",
    "\n",
    "<h3> 1. Ventajas: </h3>\n",
    "\n",
    "* `Simplicidad`: La técnica Z-score es muy fácil de entender e implementar en Python. Solo requiere restar la media y dividir por la desviación estándar.\n",
    "\n",
    "* `Interpretación`: Los valores Z-score expresan las distancias en unidades de desviación estándar respecto a la media, lo que facilita la comparación de valores entre diferentes características.\n",
    "\n",
    "* `Robustez`: La técnica Z-score es robusta a valores atípicos, ya que no se ve afectada por valores extremos.\n",
    "\n",
    "* `Estandarización`: Permite que los algoritmos de aprendizaje automático se centren en las relaciones entre las características en lugar de su magnitud absoluta.\n",
    "\n",
    "<h3> 2. Desventajas: </h3>\n",
    "\n",
    "* `Pérdida de información`: La técnica Z-score transforma los datos originales en una nueva escala, lo que puede implicar una pérdida de información sobre la distribución original de los datos.\n",
    "\n",
    "* ` Dependencia de la distribución`: Si los datos no siguen una distribución normal, la normalización Z-score puede no ser efectiva e incluso puede distorsionar las relaciones entre las características.\n",
    "\n",
    "* `Sensibilidad a outliers`: Aunque la técnica Z-score es robusta a outliers, si hay muchos outliers en el conjunto de datos, la normalización Z-score puede verse afectada.\n",
    "\n",
    "* `Escalas diferentes`: La técnica Z-score normaliza los datos a una escala con media 0 y desviación estándar 1, lo que puede ser un problema si las características tienen escalas diferentes."
   ]
  },
  {
   "cell_type": "code",
   "execution_count": 43,
   "metadata": {},
   "outputs": [
    {
     "data": {
      "image/png": "[encoded data removed]",
      "text/plain": [
       "<Figure size 640x480 with 1 Axes>"
      ]
     },
     "metadata": {},
     "output_type": "display_data"
    }
   ],
   "source": [
    "import seaborn as sns\n",
    "varrr = ['month', 'day', 'hindfoot_length', 'weight']\n",
    "datos_prueba = datos[varrr]\n",
    "datos_prueba\n",
    "\n",
    "import matplotlib.pyplot as plt\n",
    "\n",
    "sns.boxplot(datos_prueba)\n",
    "plt.title(\"Boxplot\")\n",
    "plt.xlabel(\"Hola\")\n",
    "plt.ylabel(\"Adiós\")\n",
    "plt.legend(varrr)\n",
    "plt.show()"
   ]
  }
 ],
 "metadata": {
  "kernelspec": {
   "display_name": "Python 3",
   "language": "python",
   "name": "python3"
  },
  "language_info": {
   "codemirror_mode": {
    "name": "ipython",
    "version": 3
   },
   "file_extension": ".py",
   "mimetype": "text/x-python",
   "name": "python",
   "nbconvert_exporter": "python",
   "pygments_lexer": "ipython3",
   "version": "3.11.9"
  }
 },
 "nbformat": 4,
 "nbformat_minor": 2
}
